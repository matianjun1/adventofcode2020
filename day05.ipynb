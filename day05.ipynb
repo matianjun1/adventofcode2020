{
 "metadata": {
  "language_info": {
   "codemirror_mode": {
    "name": "ipython",
    "version": 3
   },
   "file_extension": ".py",
   "mimetype": "text/x-python",
   "name": "python",
   "nbconvert_exporter": "python",
   "pygments_lexer": "ipython3",
   "version": "3.8.2"
  },
  "orig_nbformat": 2,
  "kernelspec": {
   "name": "python3",
   "display_name": "Python 3.8.2 64-bit ('3.8.2': pyenv)",
   "metadata": {
    "interpreter": {
     "hash": "2c20fda82d6ab1be7309bafc5356f443fc296ce1b3427e1c0d1d1461a893c156"
    }
   }
  }
 },
 "nbformat": 4,
 "nbformat_minor": 2,
 "cells": [
  {
   "cell_type": "code",
   "execution_count": 3,
   "metadata": {},
   "outputs": [
    {
     "output_type": "execute_result",
     "data": {
      "text/plain": [
       "'BBFBBFFRRR'"
      ]
     },
     "metadata": {},
     "execution_count": 3
    }
   ],
   "source": [
    "\"BBFBBFFRRR\""
   ]
  },
  {
   "cell_type": "code",
   "execution_count": 4,
   "metadata": {},
   "outputs": [
    {
     "output_type": "execute_result",
     "data": {
      "text/plain": [
       "871"
      ]
     },
     "metadata": {},
     "execution_count": 4
    }
   ],
   "source": [
    "108 * 8 + 7"
   ]
  },
  {
   "cell_type": "code",
   "execution_count": 5,
   "metadata": {},
   "outputs": [
    {
     "output_type": "execute_result",
     "data": {
      "text/plain": [
       "'\\n64-127\\n96-127\\n96-111\\n104-111\\n108-111\\n108-109\\n108\\n7\\n'"
      ]
     },
     "metadata": {},
     "execution_count": 5
    }
   ],
   "source": [
    "'''\n",
    "64-127\n",
    "96-127\n",
    "96-111\n",
    "104-111\n",
    "108-111\n",
    "108-109\n",
    "108\n",
    "7\n",
    "'''"
   ]
  },
  {
   "cell_type": "code",
   "execution_count": 6,
   "metadata": {},
   "outputs": [
    {
     "output_type": "execute_result",
     "data": {
      "text/plain": [
       "'BFBFFFFLLL'"
      ]
     },
     "metadata": {},
     "execution_count": 6
    }
   ],
   "source": [
    "\"BFBFFFFLLL\""
   ]
  },
  {
   "cell_type": "code",
   "execution_count": 9,
   "metadata": {},
   "outputs": [
    {
     "output_type": "execute_result",
     "data": {
      "text/plain": [
       "'\\n64-127\\n64-95\\n80-95\\n80-87\\n80\\n0\\n'"
      ]
     },
     "metadata": {},
     "execution_count": 9
    }
   ],
   "source": [
    "'''\n",
    "64-127\n",
    "64-95\n",
    "80-95\n",
    "80-87\n",
    "80\n",
    "0\n",
    "'''"
   ]
  },
  {
   "cell_type": "code",
   "execution_count": 10,
   "metadata": {},
   "outputs": [
    {
     "output_type": "execute_result",
     "data": {
      "text/plain": [
       "640"
      ]
     },
     "metadata": {},
     "execution_count": 10
    }
   ],
   "source": [
    "80 * 8 + 0"
   ]
  },
  {
   "cell_type": "code",
   "execution_count": null,
   "metadata": {},
   "outputs": [],
   "source": []
  }
 ]
}